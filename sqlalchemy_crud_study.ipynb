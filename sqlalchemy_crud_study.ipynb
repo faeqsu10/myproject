{
 "cells": [
  {
   "cell_type": "code",
   "execution_count": 1,
   "metadata": {},
   "outputs": [],
   "source": [
    "from sqlalchemy import create_engine"
   ]
  },
  {
   "cell_type": "code",
   "execution_count": 2,
   "metadata": {},
   "outputs": [],
   "source": [
    "from sqlalchemy.orm import declarative_base"
   ]
  },
  {
   "cell_type": "code",
   "execution_count": 42,
   "metadata": {},
   "outputs": [
    {
     "data": {
      "text/plain": [
       "Engine(sqlite:///db.sqlite3)"
      ]
     },
     "execution_count": 42,
     "metadata": {},
     "output_type": "execute_result"
    }
   ],
   "source": [
    "engine = create_engine('sqlite:///db.sqlite3', echo=True)\n",
    "engine\n",
    "\n",
    "# sqlalchemy 에서 데이터베이스 연결을 설정하는 코드\n",
    "# create_engine 함수는 데이터베이스 연결을 생성하는 함수\n",
    "# 'sqlite:///db.sqlite3' 은 데이터베이스 파일의 경로를 지정하는 문자열\n",
    "# /// 는 현재 파일의 위치를 기준으로 한 상대 경로를 나타냅니다.\n",
    "# echo=True 는 데이터베이스 연결 과정을 콘솔에 출력하는 옵션"
   ]
  },
  {
   "cell_type": "code",
   "execution_count": 43,
   "metadata": {},
   "outputs": [],
   "source": [
    "Base = declarative_base() \n",
    "\n",
    "# 데이터베이스 모델을 정의하기 위한 기본 클래스를 생성\n",
    "# 이 기본 클래스는 모든 데이터베이스 모델 클래스의 부모 클래스가 됩니다."
   ]
  },
  {
   "cell_type": "code",
   "execution_count": 44,
   "metadata": {},
   "outputs": [],
   "source": [
    "from sqlalchemy import Column, Integer, String\n",
    "\n",
    "class User(Base): # 모델 클래스는 Base 클래스를 상속받아야 합니다.\n",
    "    __tablename__ = 'users' # 테이블 이름 지정\n",
    "    id = Column(Integer, primary_key=True) \n",
    "    name = Column(String)\n",
    "    fullname = Column(String)\n",
    "    nickname = Column(String)"
   ]
  },
  {
   "cell_type": "code",
   "execution_count": 50,
   "metadata": {},
   "outputs": [
    {
     "name": "stdout",
     "output_type": "stream",
     "text": [
      "2025-05-18 13:46:53,555 INFO sqlalchemy.engine.Engine BEGIN (implicit)\n",
      "2025-05-18 13:46:53,556 INFO sqlalchemy.engine.Engine PRAGMA main.table_info(\"users\")\n",
      "2025-05-18 13:46:53,556 INFO sqlalchemy.engine.Engine [raw sql] ()\n",
      "2025-05-18 13:46:53,557 INFO sqlalchemy.engine.Engine PRAGMA temp.table_info(\"users\")\n",
      "2025-05-18 13:46:53,558 INFO sqlalchemy.engine.Engine [raw sql] ()\n",
      "2025-05-18 13:46:53,559 INFO sqlalchemy.engine.Engine \n",
      "CREATE TABLE users (\n",
      "\tid INTEGER NOT NULL, \n",
      "\tname VARCHAR, \n",
      "\tfullname VARCHAR, \n",
      "\tnickname VARCHAR, \n",
      "\tPRIMARY KEY (id)\n",
      ")\n",
      "\n",
      "\n",
      "2025-05-18 13:46:53,561 INFO sqlalchemy.engine.Engine [no key 0.00073s] ()\n",
      "2025-05-18 13:46:53,575 INFO sqlalchemy.engine.Engine COMMIT\n"
     ]
    }
   ],
   "source": [
    "# 테이블 생성\n",
    "Base.metadata.create_all(engine)"
   ]
  },
  {
   "cell_type": "code",
   "execution_count": 54,
   "metadata": {},
   "outputs": [
    {
     "data": {
      "text/plain": [
       "sessionmaker(class_='Session', bind=Engine(sqlite:///db.sqlite3), autoflush=True, expire_on_commit=True)"
      ]
     },
     "execution_count": 54,
     "metadata": {},
     "output_type": "execute_result"
    }
   ],
   "source": [
    "from sqlalchemy.orm import sessionmaker\n",
    "\n",
    "Session = sessionmaker(bind=engine)\n",
    "Session\n",
    "# sqlalchemy 에서 데이터베이스 세션을 생성하는 코드\n",
    "# sessionmaker 함수는 데이터베이스 세션을 생성하는 함수\n",
    "# bind=engine 은 이전에 생성한 데이터베이스 엔진과 연결\n",
    "\n",
    "# 세션의 주요 기능\n",
    "# - 데이터베이스 쿼리 실행\n",
    "# - 객체 추가/수정/삭제\n",
    "# - 트랜잭션 관리\n",
    "# - 변경사항 커밋/롤백\n"
   ]
  },
  {
   "cell_type": "code",
   "execution_count": 55,
   "metadata": {},
   "outputs": [
    {
     "data": {
      "text/plain": [
       "<sqlalchemy.orm.session.Session at 0x254c1e6ff10>"
      ]
     },
     "execution_count": 55,
     "metadata": {},
     "output_type": "execute_result"
    }
   ],
   "source": [
    "session = Session()\n",
    "session"
   ]
  },
  {
   "cell_type": "code",
   "execution_count": 57,
   "metadata": {},
   "outputs": [
    {
     "data": {
      "text/plain": [
       "<__main__.User at 0x254c5e7e210>"
      ]
     },
     "execution_count": 57,
     "metadata": {},
     "output_type": "execute_result"
    }
   ],
   "source": [
    "new_user = User(name='John', fullname='John Doe', nickname='JD')\n",
    "new_user\n"
   ]
  },
  {
   "cell_type": "code",
   "execution_count": 58,
   "metadata": {},
   "outputs": [],
   "source": [
    "session.add(new_user)"
   ]
  },
  {
   "cell_type": "code",
   "execution_count": 59,
   "metadata": {},
   "outputs": [
    {
     "name": "stdout",
     "output_type": "stream",
     "text": [
      "2025-05-18 13:50:40,290 INFO sqlalchemy.engine.Engine BEGIN (implicit)\n",
      "2025-05-18 13:50:40,292 INFO sqlalchemy.engine.Engine INSERT INTO users (name, fullname, nickname) VALUES (?, ?, ?) RETURNING id\n",
      "2025-05-18 13:50:40,293 INFO sqlalchemy.engine.Engine [generated in 0.00011s (insertmanyvalues) 1/2 (ordered; batch not supported)] ('John', 'John Doe', 'JD')\n",
      "2025-05-18 13:50:40,300 INFO sqlalchemy.engine.Engine INSERT INTO users (name, fullname, nickname) VALUES (?, ?, ?) RETURNING id\n",
      "2025-05-18 13:50:40,301 INFO sqlalchemy.engine.Engine [insertmanyvalues 2/2 (ordered; batch not supported)] ('John', 'John Doe', 'JD')\n",
      "2025-05-18 13:50:40,302 INFO sqlalchemy.engine.Engine COMMIT\n"
     ]
    }
   ],
   "source": [
    "session.commit()\n",
    "\n",
    "# 세션에 새로운 객체를 추가하고 커밋하는 코드\n",
    "# session.add(new_user) 는 세션에 새로운 객체를 추가하는 코드\n",
    "# session.commit() 는 세션에 추가된 객체를 데이터베이스에 저장하는 코드"
   ]
  },
  {
   "cell_type": "code",
   "execution_count": 60,
   "metadata": {},
   "outputs": [],
   "source": [
    "session.close()"
   ]
  },
  {
   "cell_type": "code",
   "execution_count": 63,
   "metadata": {},
   "outputs": [
    {
     "name": "stdout",
     "output_type": "stream",
     "text": [
      "2025-05-18 13:52:10,469 INFO sqlalchemy.engine.Engine SELECT users.id AS users_id, users.name AS users_name, users.fullname AS users_fullname, users.nickname AS users_nickname \n",
      "FROM users\n",
      "2025-05-18 13:52:10,471 INFO sqlalchemy.engine.Engine [cached since 29.55s ago] ()\n"
     ]
    },
    {
     "data": {
      "text/plain": [
       "[<__main__.User at 0x254c5e7e790>, <__main__.User at 0x254c5e7f390>]"
      ]
     },
     "execution_count": 63,
     "metadata": {},
     "output_type": "execute_result"
    }
   ],
   "source": [
    "# 모든 사용자 조회\n",
    "all_users = session.query(User).all()\n",
    "all_users"
   ]
  },
  {
   "cell_type": "code",
   "execution_count": 66,
   "metadata": {},
   "outputs": [
    {
     "name": "stdout",
     "output_type": "stream",
     "text": [
      "데이터베이스에 데이터가 있습니다.\n",
      "John John Doe JD\n",
      "John John Doe JD\n"
     ]
    }
   ],
   "source": [
    "if all_users:\n",
    "    print(\"데이터베이스에 데이터가 있습니다.\")\n",
    "    for user in all_users:\n",
    "        print(user.name, user.fullname, user.nickname)\n",
    "else:\n",
    "    print(\"데이터베이스에 데이터가 없습니다.\")"
   ]
  },
  {
   "cell_type": "code",
   "execution_count": 68,
   "metadata": {},
   "outputs": [
    {
     "name": "stdout",
     "output_type": "stream",
     "text": [
      "2025-05-18 13:54:06,407 INFO sqlalchemy.engine.Engine SELECT users.id AS users_id, users.name AS users_name, users.fullname AS users_fullname, users.nickname AS users_nickname \n",
      "FROM users\n",
      " LIMIT ? OFFSET ?\n",
      "2025-05-18 13:54:06,409 INFO sqlalchemy.engine.Engine [cached since 20.29s ago] (1, 0)\n",
      "첫 번째 사용자: John John Doe JD\n"
     ]
    }
   ],
   "source": [
    "first_user = session.query(User).first()\n",
    "if first_user:\n",
    "    print(\"첫 번째 사용자:\", first_user.name, first_user.fullname, first_user.nickname)"
   ]
  },
  {
   "cell_type": "code",
   "execution_count": 70,
   "metadata": {},
   "outputs": [
    {
     "name": "stdout",
     "output_type": "stream",
     "text": [
      "2025-05-18 13:58:45,814 INFO sqlalchemy.engine.Engine SELECT users.id AS users_id, users.name AS users_name, users.fullname AS users_fullname, users.nickname AS users_nickname \n",
      "FROM users \n",
      "WHERE users.nickname = ?\n",
      " LIMIT ? OFFSET ?\n",
      "2025-05-18 13:58:45,815 INFO sqlalchemy.engine.Engine [cached since 187.1s ago] ('JD', 1, 0)\n",
      "수정 전: ID: 1, 이름: John, 성: John Doe, 별명: JD\n",
      "2025-05-18 13:58:45,818 INFO sqlalchemy.engine.Engine UPDATE users SET nickname=? WHERE users.id = ?\n",
      "2025-05-18 13:58:45,818 INFO sqlalchemy.engine.Engine [generated in 0.00103s] ('faeqsu10', 1)\n",
      "2025-05-18 13:58:45,827 INFO sqlalchemy.engine.Engine COMMIT\n",
      "2025-05-18 13:58:45,830 INFO sqlalchemy.engine.Engine BEGIN (implicit)\n",
      "2025-05-18 13:58:45,833 INFO sqlalchemy.engine.Engine SELECT users.id AS users_id, users.name AS users_name, users.fullname AS users_fullname, users.nickname AS users_nickname \n",
      "FROM users \n",
      "WHERE users.id = ?\n",
      "2025-05-18 13:58:45,833 INFO sqlalchemy.engine.Engine [generated in 0.00107s] (1,)\n",
      "수정 후: ID: 1, 이름: John, 성: John Doe, 별명: faeqsu10\n",
      "2025-05-18 13:58:45,836 INFO sqlalchemy.engine.Engine SELECT users.id AS users_id, users.name AS users_name, users.fullname AS users_fullname, users.nickname AS users_nickname \n",
      "FROM users \n",
      "WHERE users.id = ?\n",
      " LIMIT ? OFFSET ?\n",
      "2025-05-18 13:58:45,837 INFO sqlalchemy.engine.Engine [generated in 0.00076s] (1, 1, 0)\n",
      "DB에서 다시 조회: ID: 1, 이름: John, 성: John Doe, 별명: faeqsu10\n"
     ]
    }
   ],
   "source": [
    "# 수정할 사용자 조회(예: nickname으로 조회)\n",
    "user_to_update = session.query(User).filter_by(nickname='JD').first()\n",
    "\n",
    "if user_to_update:\n",
    "    print(f\"수정 전: ID: {user_to_update.id}, 이름: {user_to_update.name}, 성: {user_to_update.fullname}, 별명: {user_to_update.nickname}\")\n",
    "    \n",
    "    # 사용자 정보 수정\n",
    "    user_to_update.nickname = 'faeqsu10'\n",
    "    \n",
    "    # 변경사항 커밋\n",
    "    session.commit()\n",
    "    print(f\"수정 후: ID: {user_to_update.id}, 이름: {user_to_update.name}, 성: {user_to_update.fullname}, 별명: {user_to_update.nickname}\")\n",
    "    \n",
    "    # 변경 확인\n",
    "    updated_user = session.query(User).filter_by(id=user_to_update.id).first()\n",
    "    if updated_user:\n",
    "        print(f\"DB에서 다시 조회: ID: {updated_user.id}, 이름: {updated_user.name}, 성: {updated_user.fullname}, 별명: {updated_user.nickname}\")\n",
    "else:\n",
    "    print(\"닉네임이 'JD'인 사용자를 찾을 수 없습니다.\")"
   ]
  },
  {
   "cell_type": "code",
   "execution_count": 73,
   "metadata": {},
   "outputs": [
    {
     "name": "stdout",
     "output_type": "stream",
     "text": [
      "2025-05-18 14:00:59,627 INFO sqlalchemy.engine.Engine SELECT users.id AS users_id, users.name AS users_name, users.fullname AS users_fullname, users.nickname AS users_nickname \n",
      "FROM users \n",
      "WHERE users.name = ?\n",
      " LIMIT ? OFFSET ?\n",
      "2025-05-18 14:00:59,628 INFO sqlalchemy.engine.Engine [cached since 29.16s ago] ('John', 1, 0)\n",
      "이름이 'John'인 사용자를 찾을 수 없습니다.\n"
     ]
    }
   ],
   "source": [
    "# 삭제할 사용자 조회 (예: name으로 조회)\n",
    "user_to_delete = session.query(User).filter_by(name='John').first()\n",
    "\n",
    "if user_to_delete:\n",
    "    print(f\"삭제 전: ID: {user_to_delete.id}, 이름: {user_to_delete.name}, 성: {user_to_delete.fullname}, 별명: {user_to_delete.nickname}\")\n",
    "    \n",
    "    # 삭제 실행\n",
    "    session.delete(user_to_delete)\n",
    "    session.commit()\n",
    "    \n",
    "    print(f\"삭제 후: ID: {user_to_delete.id}, 이름: {user_to_delete.name}, 성: {user_to_delete.fullname}, 별명: {user_to_delete.nickname}\")\n",
    "    \n",
    "    # 삭제 확인\n",
    "    deleted_user = session.query(User).filter_by(id=user_to_delete.id).first()\n",
    "    if deleted_user:\n",
    "        print(f\"DB에서 다시 조회: ID: {deleted_user.id}, 이름: {deleted_user.name}, 성: {deleted_user.fullname}, 별명: {deleted_user.nickname}\")\n",
    "else:\n",
    "    print(\"이름이 'John'인 사용자를 찾을 수 없습니다.\")"
   ]
  },
  {
   "cell_type": "markdown",
   "metadata": {},
   "source": [
    "---"
   ]
  },
  {
   "cell_type": "code",
   "execution_count": 9,
   "metadata": {},
   "outputs": [],
   "source": [
    "import re\n",
    "\n",
    "def clean_markdown(text: str) -> str:\n",
    "    # 1. **bold** → bold\n",
    "    text = re.sub(r\"\\*\\*(.*?)\\*\\*\", r\"\\1\", text)\n",
    "    \n",
    "    # 2. *italic* or _italic_ → italic\n",
    "    text = re.sub(r\"\\*(.*?)\\*\", r\"\\1\", text)\n",
    "    text = re.sub(r\"_(.*?)_\", r\"\\1\", text)\n",
    "    \n",
    "    # 3. `inline code` → inline code\n",
    "    text = re.sub(r\"`(.*?)`\", r\"\\1\", text)\n",
    "\n",
    "    # 4. 제거할 기호들 (Markdown 헤더, 리스트, 인용부호 등)\n",
    "    # 예: \"# 제목\", \"## 소제목\", \"- 리스트\", \"> 인용문\", \"+ 리스트\"\n",
    "    text = re.sub(r\"^\\s{0,3}#{1,6}\\s*\", \"\", text, flags=re.MULTILINE)  # 헤더 #\n",
    "    text = re.sub(r\"^\\s*[-+*]\\s+\", \"\", text, flags=re.MULTILINE)       # 리스트 항목 - + *\n",
    "    text = re.sub(r\"^\\s*>\\s+\", \"\", text, flags=re.MULTILINE)           # 인용문 >\n",
    "\n",
    "    # 5. 코드블록 ``` 제거\n",
    "    text = re.sub(r\"```.*?```\", \"\", text, flags=re.DOTALL)  # 멀티라인 코드블럭\n",
    "    text = re.sub(r\"```\", \"\", text)  # 남은 단독 ```\n",
    "\n",
    "    # 6. 여백 정리\n",
    "    return text.strip()\n"
   ]
  },
  {
   "cell_type": "markdown",
   "metadata": {},
   "source": [
    "---"
   ]
  },
  {
   "cell_type": "code",
   "execution_count": 14,
   "metadata": {},
   "outputs": [],
   "source": [
    "import re"
   ]
  },
  {
   "cell_type": "code",
   "execution_count": 15,
   "metadata": {},
   "outputs": [
    {
     "data": {
      "text/plain": [
       "'bold'"
      ]
     },
     "execution_count": 15,
     "metadata": {},
     "output_type": "execute_result"
    }
   ],
   "source": [
    "text = \"**bold**\"\n",
    "# 1. **bold** → bold\n",
    "re.sub(r\"\\*\\*(.*?)\\*\\*\", r\"\\1\", text)"
   ]
  },
  {
   "cell_type": "markdown",
   "metadata": {},
   "source": [
    "`re.sub(r\"\\*\\*(.*?)\\*\\*\", r\"\\1\", text)`는 Python의 정규 표현식(re)를 사용하여 텍스트에서 마크다운 스타일의 볼드 텍스트를 제거하는 코드입니다.\n",
    "\n",
    "1. `re.sub()`: 문자열 치환을 수행하는 함수\n",
    "2. `r\"\\*\\*(.*?)\\*\\*\"`:\n",
    "    - `\\*\\*`: 마크다운에서 볼드 텍스트를 나타내는 `**`기호를 찾습니다.\n",
    "    - `(.*?)`: `**` 사이에 있는 모든 문자를 캡처합니다.\n",
    "    - `?`: 비탐욕적(non-gready) 매칭을 수행합니다.\n",
    "3. `r\"\\1\"`:\n",
    "    - 첫 번째 캡처 그룹을 참조합니다.\n",
    "    - 즉, `**` 기호를 제거하고 그 안의 텍스트만 남깁니다."
   ]
  },
  {
   "cell_type": "markdown",
   "metadata": {},
   "source": [
    "```python\n",
    "# 2. *italic* or _italic_ → italic  \n",
    "text = re.sub(r\"\\*(.*?)\\*\", r\"\\1\", text)\n",
    "text = re.sub(r\"_(.*?)_\", r\"\\1\", text)\n",
    "```"
   ]
  },
  {
   "cell_type": "code",
   "execution_count": 23,
   "metadata": {},
   "outputs": [
    {
     "data": {
      "text/plain": [
       "'italic'"
      ]
     },
     "execution_count": 23,
     "metadata": {},
     "output_type": "execute_result"
    }
   ],
   "source": [
    "text = \"*italic*\"\n",
    "re.sub(r\"\\*(.*?)\\*\", r\"\\1\", text)"
   ]
  },
  {
   "cell_type": "code",
   "execution_count": 24,
   "metadata": {},
   "outputs": [
    {
     "data": {
      "text/plain": [
       "'italic'"
      ]
     },
     "execution_count": 24,
     "metadata": {},
     "output_type": "execute_result"
    }
   ],
   "source": [
    "text = \"_italic_\"\n",
    "re.sub(r\"_(.*?)_\", r\"\\1\", text)"
   ]
  },
  {
   "cell_type": "markdown",
   "metadata": {},
   "source": [
    "```python\n",
    "# 3. `inline code` → inline code\n",
    "text = re.sub(r\"`(.*?)`\", r\"\\1\", text)\n",
    "```"
   ]
  },
  {
   "cell_type": "code",
   "execution_count": 22,
   "metadata": {},
   "outputs": [
    {
     "data": {
      "text/plain": [
       "'inline code'"
      ]
     },
     "execution_count": 22,
     "metadata": {},
     "output_type": "execute_result"
    }
   ],
   "source": [
    "text = \"`inline code`\"\n",
    "re.sub(r\"`(.*?)`\", r\"\\1\", text)\n"
   ]
  },
  {
   "cell_type": "markdown",
   "metadata": {},
   "source": [
    "```python\n",
    "# 4. 제거할 기호들 (Markdown 헤더, 리스트, 인용부호 등)\n",
    "# 예: \"# 제목\", \"## 소제목\", \"- 리스트\", \"> 인용문\", \"+ 리스트\"\n",
    "text = re.sub(r\"^\\s{0,3}#{1,6}\\s*\", \"\", text, flags=re.MULTILINE)  # 헤더 #\n",
    "text = re.sub(r\"^\\s*[-+*]\\s+\", \"\", text, flags=re.MULTILINE)       # 리스트 항목 - + *\n",
    "text = re.sub(r\"^\\s*>\\s+\", \"\", text, flags=re.MULTILINE)           # 인용문 >\n",
    "```"
   ]
  },
  {
   "cell_type": "code",
   "execution_count": 26,
   "metadata": {},
   "outputs": [
    {
     "name": "stdout",
     "output_type": "stream",
     "text": [
      "제목 1\n",
      "제목 2\n",
      "제목 3\n",
      "일반 텍스트\n"
     ]
    }
   ],
   "source": [
    "text = \"\"\"\n",
    "# 제목 1\n",
    "## 제목 2\n",
    "   ### 제목 3\n",
    "일반 텍스트\n",
    "\"\"\".strip()\n",
    "print(re.sub(r\"^\\s{0,3}#{1,6}\\s*\", \"\", text, flags=re.MULTILINE))\n"
   ]
  },
  {
   "cell_type": "code",
   "execution_count": 28,
   "metadata": {},
   "outputs": [
    {
     "name": "stdout",
     "output_type": "stream",
     "text": [
      "리스트 1\n",
      "리스트 2\n",
      "리스트 3\n"
     ]
    }
   ],
   "source": [
    "text = \"\"\"\n",
    "- 리스트 1\n",
    "- 리스트 2\n",
    "- 리스트 3\n",
    "\"\"\".strip()\n",
    "print(re.sub(r\"^\\s*[-+*]\\s+\", \"\", text, flags=re.MULTILINE))"
   ]
  },
  {
   "cell_type": "code",
   "execution_count": 33,
   "metadata": {},
   "outputs": [
    {
     "name": "stdout",
     "output_type": "stream",
     "text": [
      "리스트 1\n",
      "리스트 2\n",
      "리스트 3\n"
     ]
    }
   ],
   "source": [
    "text = \"\"\"\n",
    "- 리스트 1\n",
    "+ 리스트 2\n",
    "   -   리스트 3\n",
    "\"\"\".strip()\n",
    "print(re.sub(r\"^\\s*[-+*]\\s+\", \"\", text, flags=re.MULTILINE))"
   ]
  },
  {
   "cell_type": "markdown",
   "metadata": {},
   "source": [
    "```python\n",
    "re.sub(r\"^\\s*[-+*]\\s+\", \"\", text, flangs=re.MULTILINE)\n",
    "```\n",
    "1. `^`: 줄의 시작을 의미\n",
    "2. `\\s*`:\n",
    "    - `\\s`: 공백 문자(스페이스, 탭 등)\n",
    "    - `*`: 0개 이상의 공백을 매칭\n",
    "    - 즉, 줄 시작에 있는 모든 공백을 매칭\n",
    "3. [-+*]:\n",
    "    - 대괄호 안의 문자들 중 하나를 매칭\n",
    "    - `-`: 하이픈\n",
    "    - `+`: 플러스\n",
    "    - `*`: 별표\n",
    "4. `\\s+`:\n",
    "    - `\\s`: 공백 문자\n",
    "    - `+`: 1개 이상의 공백을 매칭\n",
    "5. flags=re.MULTILINE:\n",
    "    - 여러 줄의 텍스트에서 각 줄의 시작(`^`)을 매칭할 수 있게 해줌"
   ]
  },
  {
   "cell_type": "code",
   "execution_count": 40,
   "metadata": {},
   "outputs": [
    {
     "name": "stdout",
     "output_type": "stream",
     "text": [
      "인용문 1\n",
      "인용문 2\n",
      "인용문 3\n"
     ]
    }
   ],
   "source": [
    "text = \"\"\"\n",
    "> 인용문 1\n",
    "> 인용문 2\n",
    "   >   인용문 3\n",
    "\"\"\".strip()\n",
    "\n",
    "print(re.sub(r\"^\\s*>\\s+\", \"\", text, flags=re.MULTILINE))"
   ]
  }
 ],
 "metadata": {
  "kernelspec": {
   "display_name": "base",
   "language": "python",
   "name": "python3"
  },
  "language_info": {
   "codemirror_mode": {
    "name": "ipython",
    "version": 3
   },
   "file_extension": ".py",
   "mimetype": "text/x-python",
   "name": "python",
   "nbconvert_exporter": "python",
   "pygments_lexer": "ipython3",
   "version": "3.11.7"
  }
 },
 "nbformat": 4,
 "nbformat_minor": 2
}
