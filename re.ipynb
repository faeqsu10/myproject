{
 "cells": [
  {
   "cell_type": "code",
   "execution_count": 1,
   "metadata": {},
   "outputs": [],
   "source": [
    "import re\n",
    "\n",
    "def clean_markdown(text: str) -> str:\n",
    "    # 1. **bold** → bold\n",
    "    text = re.sub(r\"\\*\\*(.*?)\\*\\*\", r\"\\1\", text)\n",
    "    \n",
    "    # 2. *italic* or _italic_ → italic\n",
    "    text = re.sub(r\"\\*(.*?)\\*\", r\"\\1\", text)\n",
    "    text = re.sub(r\"_(.*?)_\", r\"\\1\", text)\n",
    "    \n",
    "    # 3. `inline code` → inline code\n",
    "    text = re.sub(r\"`(.*?)`\", r\"\\1\", text)\n",
    "\n",
    "    # 4. 제거할 기호들 (Markdown 헤더, 리스트, 인용부호 등)\n",
    "    # 예: \"# 제목\", \"## 소제목\", \"- 리스트\", \"> 인용문\", \"+ 리스트\"\n",
    "    text = re.sub(r\"^\\s{0,3}#{1,6}\\s*\", \"\", text, flags=re.MULTILINE)  # 헤더 #\n",
    "    text = re.sub(r\"^\\s*[-+*]\\s+\", \"\", text, flags=re.MULTILINE)       # 리스트 항목 - + *\n",
    "    text = re.sub(r\"^\\s*>\\s+\", \"\", text, flags=re.MULTILINE)           # 인용문 >\n",
    "\n",
    "    # 5. 코드블록 ``` 제거\n",
    "    text = re.sub(r\"```.*?```\", \"\", text, flags=re.DOTALL)  # 멀티라인 코드블럭\n",
    "    text = re.sub(r\"```\", \"\", text)  # 남은 단독 ```\n",
    "\n",
    "    # 6. 여백 정리\n",
    "    return text.strip()\n"
   ]
  },
  {
   "cell_type": "markdown",
   "metadata": {},
   "source": [
    "---"
   ]
  },
  {
   "cell_type": "code",
   "execution_count": 2,
   "metadata": {},
   "outputs": [],
   "source": [
    "import re"
   ]
  },
  {
   "cell_type": "code",
   "execution_count": 3,
   "metadata": {},
   "outputs": [
    {
     "data": {
      "text/plain": [
       "'bold'"
      ]
     },
     "execution_count": 3,
     "metadata": {},
     "output_type": "execute_result"
    }
   ],
   "source": [
    "text = \"**bold**\"\n",
    "# 1. **bold** → bold\n",
    "re.sub(r\"\\*\\*(.*?)\\*\\*\", r\"\\1\", text)"
   ]
  },
  {
   "cell_type": "markdown",
   "metadata": {},
   "source": [
    "`re.sub(r\"\\*\\*(.*?)\\*\\*\", r\"\\1\", text)`는 Python의 정규 표현식(re)를 사용하여 텍스트에서 마크다운 스타일의 볼드 텍스트를 제거하는 코드입니다.\n",
    "\n",
    "1. `re.sub()`: 문자열 치환을 수행하는 함수\n",
    "2. `r\"\\*\\*(.*?)\\*\\*\"`:\n",
    "    - `\\*\\*`: 마크다운에서 볼드 텍스트를 나타내는 `**`기호를 찾습니다.\n",
    "    - `(.*?)`: `**` 사이에 있는 모든 문자를 캡처합니다.\n",
    "    - `?`: 비탐욕적(non-gready) 매칭을 수행합니다.\n",
    "3. `r\"\\1\"`:\n",
    "    - 첫 번째 캡처 그룹을 참조합니다.\n",
    "    - 즉, `**` 기호를 제거하고 그 안의 텍스트만 남깁니다."
   ]
  },
  {
   "cell_type": "markdown",
   "metadata": {},
   "source": [
    "```python\n",
    "# 2. *italic* or _italic_ → italic  \n",
    "text = re.sub(r\"\\*(.*?)\\*\", r\"\\1\", text)\n",
    "text = re.sub(r\"_(.*?)_\", r\"\\1\", text)\n",
    "```"
   ]
  },
  {
   "cell_type": "code",
   "execution_count": 4,
   "metadata": {},
   "outputs": [
    {
     "data": {
      "text/plain": [
       "'italic'"
      ]
     },
     "execution_count": 4,
     "metadata": {},
     "output_type": "execute_result"
    }
   ],
   "source": [
    "text = \"*italic*\"\n",
    "re.sub(r\"\\*(.*?)\\*\", r\"\\1\", text)"
   ]
  },
  {
   "cell_type": "code",
   "execution_count": 5,
   "metadata": {},
   "outputs": [
    {
     "data": {
      "text/plain": [
       "'italic'"
      ]
     },
     "execution_count": 5,
     "metadata": {},
     "output_type": "execute_result"
    }
   ],
   "source": [
    "text = \"_italic_\"\n",
    "re.sub(r\"_(.*?)_\", r\"\\1\", text)"
   ]
  },
  {
   "cell_type": "markdown",
   "metadata": {},
   "source": [
    "```python\n",
    "# 3. `inline code` → inline code\n",
    "text = re.sub(r\"`(.*?)`\", r\"\\1\", text)\n",
    "```"
   ]
  },
  {
   "cell_type": "code",
   "execution_count": 6,
   "metadata": {},
   "outputs": [
    {
     "data": {
      "text/plain": [
       "'inline code'"
      ]
     },
     "execution_count": 6,
     "metadata": {},
     "output_type": "execute_result"
    }
   ],
   "source": [
    "text = \"`inline code`\"\n",
    "re.sub(r\"`(.*?)`\", r\"\\1\", text)\n"
   ]
  },
  {
   "cell_type": "markdown",
   "metadata": {},
   "source": [
    "```python\n",
    "# 4. 제거할 기호들 (Markdown 헤더, 리스트, 인용부호 등)\n",
    "# 예: \"# 제목\", \"## 소제목\", \"- 리스트\", \"> 인용문\", \"+ 리스트\"\n",
    "text = re.sub(r\"^\\s{0,3}#{1,6}\\s*\", \"\", text, flags=re.MULTILINE)  # 헤더 #\n",
    "text = re.sub(r\"^\\s*[-+*]\\s+\", \"\", text, flags=re.MULTILINE)       # 리스트 항목 - + *\n",
    "text = re.sub(r\"^\\s*>\\s+\", \"\", text, flags=re.MULTILINE)           # 인용문 >\n",
    "```"
   ]
  },
  {
   "cell_type": "code",
   "execution_count": 7,
   "metadata": {},
   "outputs": [
    {
     "name": "stdout",
     "output_type": "stream",
     "text": [
      "제목 1\n",
      "제목 2\n",
      "제목 3\n",
      "일반 텍스트\n"
     ]
    }
   ],
   "source": [
    "text = \"\"\"\n",
    "# 제목 1\n",
    "## 제목 2\n",
    "   ### 제목 3\n",
    "일반 텍스트\n",
    "\"\"\".strip()\n",
    "print(re.sub(r\"^\\s{0,3}#{1,6}\\s*\", \"\", text, flags=re.MULTILINE))\n"
   ]
  },
  {
   "cell_type": "code",
   "execution_count": 8,
   "metadata": {},
   "outputs": [
    {
     "name": "stdout",
     "output_type": "stream",
     "text": [
      "리스트 1\n",
      "리스트 2\n",
      "리스트 3\n"
     ]
    }
   ],
   "source": [
    "text = \"\"\"\n",
    "- 리스트 1\n",
    "- 리스트 2\n",
    "- 리스트 3\n",
    "\"\"\".strip()\n",
    "print(re.sub(r\"^\\s*[-+*]\\s+\", \"\", text, flags=re.MULTILINE))"
   ]
  },
  {
   "cell_type": "code",
   "execution_count": 9,
   "metadata": {},
   "outputs": [
    {
     "name": "stdout",
     "output_type": "stream",
     "text": [
      "리스트 1\n",
      "리스트 2\n",
      "리스트 3\n"
     ]
    }
   ],
   "source": [
    "text = \"\"\"\n",
    "- 리스트 1\n",
    "+ 리스트 2\n",
    "   -   리스트 3\n",
    "\"\"\".strip()\n",
    "print(re.sub(r\"^\\s*[-+*]\\s+\", \"\", text, flags=re.MULTILINE))"
   ]
  },
  {
   "cell_type": "markdown",
   "metadata": {},
   "source": [
    "```python\n",
    "re.sub(r\"^\\s*[-+*]\\s+\", \"\", text, flangs=re.MULTILINE)\n",
    "```\n",
    "1. `^`: 줄의 시작을 의미\n",
    "2. `\\s*`:\n",
    "    - `\\s`: 공백 문자(스페이스, 탭 등)\n",
    "    - `*`: 0개 이상의 공백을 매칭\n",
    "    - 즉, 줄 시작에 있는 모든 공백을 매칭\n",
    "3. [-+*]:\n",
    "    - 대괄호 안의 문자들 중 하나를 매칭\n",
    "    - `-`: 하이픈\n",
    "    - `+`: 플러스\n",
    "    - `*`: 별표\n",
    "4. `\\s+`:\n",
    "    - `\\s`: 공백 문자\n",
    "    - `+`: 1개 이상의 공백을 매칭\n",
    "5. flags=re.MULTILINE:\n",
    "    - 여러 줄의 텍스트에서 각 줄의 시작(`^`)을 매칭할 수 있게 해줌"
   ]
  },
  {
   "cell_type": "code",
   "execution_count": 10,
   "metadata": {},
   "outputs": [
    {
     "name": "stdout",
     "output_type": "stream",
     "text": [
      "인용문 1\n",
      "인용문 2\n",
      "인용문 3\n"
     ]
    }
   ],
   "source": [
    "text = \"\"\"\n",
    "> 인용문 1\n",
    "> 인용문 2\n",
    "   >   인용문 3\n",
    "\"\"\".strip()\n",
    "\n",
    "print(re.sub(r\"^\\s*>\\s+\", \"\", text, flags=re.MULTILINE))"
   ]
  },
  {
   "cell_type": "code",
   "execution_count": 11,
   "metadata": {},
   "outputs": [],
   "source": [
    "# test"
   ]
  }
 ],
 "metadata": {
  "kernelspec": {
   "display_name": "base",
   "language": "python",
   "name": "python3"
  },
  "language_info": {
   "codemirror_mode": {
    "name": "ipython",
    "version": 3
   },
   "file_extension": ".py",
   "mimetype": "text/x-python",
   "name": "python",
   "nbconvert_exporter": "python",
   "pygments_lexer": "ipython3",
   "version": "3.11.7"
  }
 },
 "nbformat": 4,
 "nbformat_minor": 2
}
